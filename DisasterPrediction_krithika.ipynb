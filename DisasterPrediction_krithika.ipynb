{
  "nbformat": 4,
  "nbformat_minor": 0,
  "metadata": {
    "colab": {
      "provenance": []
    },
    "kernelspec": {
      "name": "python3",
      "display_name": "Python 3"
    },
    "language_info": {
      "name": "python"
    }
  },
  "cells": [
    {
      "cell_type": "code",
      "execution_count": 8,
      "metadata": {
        "colab": {
          "base_uri": "https://localhost:8080/"
        },
        "id": "eAK0VbfTmSMX",
        "outputId": "1e8142ad-a66b-4839-fde7-14a005d7dac2"
      },
      "outputs": [
        {
          "output_type": "stream",
          "name": "stdout",
          "text": [
            "Mean Squared Error: 0.041929277452229456\n"
          ]
        }
      ],
      "source": [
        "# Import necessary libraries\n",
        "import numpy as np\n",
        "import pandas as pd\n",
        "from sklearn.model_selection import train_test_split\n",
        "from sklearn.ensemble import RandomForestRegressor\n",
        "from sklearn.metrics import accuracy_score\n",
        "from sklearn.metrics import mean_squared_error\n",
        "\n",
        "# Load sample earthquake data (replace with your dataset)\n",
        "# Sample data includes features like seismic magnitude, depth, etc.\n",
        "data = pd.read_csv('/content/earthquake_data.csv')\n",
        "\n",
        "columns_to_exclude = ['title', 'date_time', 'net','magType','location','continent','country','alert']\n",
        "\n",
        "# Assuming 'target' column indicates earthquake occurrence (1 for yes, 0 for no)\n",
        "X = data.drop(columns_to_exclude + ['magnitude'], axis=1)\n",
        "y = data['magnitude']\n",
        "\n",
        "# Split the data into training and testing sets\n",
        "X_train, X_test, y_train, y_test = train_test_split(X, y, test_size=0.2, random_state=42)\n",
        "\n",
        "# Initialize a Random Forest Regressor (replace with a more sophisticated model)\n",
        "model = RandomForestRegressor(n_estimators=100, random_state=42)\n",
        "\n",
        "# Train the model\n",
        "model.fit(X_train, y_train)\n",
        "\n",
        "predictions = model.predict(X_test)\n",
        "\n",
        "# Evaluate the model's performance (for regression problems)\n",
        "mse = mean_squared_error(y_test, predictions)\n",
        "print(f'Mean Squared Error: {mse}')\n",
        "\n",
        "# Now, you can deploy this model and continuously update it with new data for real-time predictions.\n"
      ]
    }
  ]
}